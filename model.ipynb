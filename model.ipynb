{
 "cells": [
  {
   "cell_type": "code",
   "execution_count": 2,
   "metadata": {},
   "outputs": [
    {
     "name": "stderr",
     "output_type": "stream",
     "text": [
      "/home/sergioq2/AI/Vision/Cafe/vision_venv/lib/python3.10/site-packages/torch/cuda/__init__.py:118: UserWarning: CUDA initialization: The NVIDIA driver on your system is too old (found version 11060). Please update your GPU driver by downloading and installing a new version from the URL: http://www.nvidia.com/Download/index.aspx Alternatively, go to: https://pytorch.org to install a PyTorch version that has been compiled with your version of the CUDA driver. (Triggered internally at ../c10/cuda/CUDAFunctions.cpp:108.)\n",
      "  return torch._C._cuda_getDeviceCount() > 0\n"
     ]
    },
    {
     "name": "stdout",
     "output_type": "stream",
     "text": [
      "\n",
      "image 1/1 /home/sergioq2/AI/Vision/Cafe/data/train/Broca/broca1_jpeg.rf.8cb91ddc01b1340aebeaea92b9c12f4a.jpg: 64x64 Broca 0.83, Rosado 0.12, Roya 0.03, Ojo 0.01, Mancha 0.00, 3.6ms\n",
      "Speed: 3.9ms preprocess, 3.6ms inference, 0.0ms postprocess per image at shape (1, 3, 64, 64)\n"
     ]
    }
   ],
   "source": [
    "from ultralytics import YOLO\n",
    "def prediction(image_path):\n",
    "    model = YOLO('runs/classify/train/weights/best.pt')\n",
    "    results = model.predict(image_path)\n",
    "    names_dict = results[0].names\n",
    "    probs = results[0].probs.data.tolist()\n",
    "    pred = names_dict[probs.index(max(probs))]\n",
    "    return pred\n",
    "\n",
    "\n",
    "if __name__ == \"__main__\":\n",
    "    image_path = \"data/train/Broca/broca1_jpeg.rf.8cb91ddc01b1340aebeaea92b9c12f4a.jpg\"\n",
    "    prediction(image_path)"
   ]
  },
  {
   "cell_type": "code",
   "execution_count": 4,
   "metadata": {},
   "outputs": [
    {
     "name": "stdout",
     "output_type": "stream",
     "text": [
      "\n",
      "image 1/1 /home/sergioq2/AI/Vision/Cafe/data/train/Ojo/gallo_1_PNG.rf.13901986c1aaa40e900a8e5086f00862.jpg: 64x64 Ojo 0.47, Mancha 0.43, Roya 0.08, Quemado 0.01, Broca 0.00, 2.8ms\n",
      "Speed: 3.2ms preprocess, 2.8ms inference, 0.0ms postprocess per image at shape (1, 3, 64, 64)\n"
     ]
    }
   ],
   "source": [
    "res = prediction(\"data/train/Ojo/gallo_1_PNG.rf.13901986c1aaa40e900a8e5086f00862.jpg\")"
   ]
  },
  {
   "cell_type": "code",
   "execution_count": 5,
   "metadata": {},
   "outputs": [
    {
     "data": {
      "text/plain": [
       "'Ojo'"
      ]
     },
     "execution_count": 5,
     "metadata": {},
     "output_type": "execute_result"
    }
   ],
   "source": [
    "res"
   ]
  },
  {
   "cell_type": "code",
   "execution_count": 4,
   "metadata": {},
   "outputs": [
    {
     "name": "stdout",
     "output_type": "stream",
     "text": [
      "{0: 'Broca', 1: 'Mancha', 2: 'Ojo', 3: 'Quemado', 4: 'Rosado', 5: 'Roya'}\n"
     ]
    }
   ],
   "source": [
    "print(names_dict)"
   ]
  },
  {
   "cell_type": "code",
   "execution_count": 7,
   "metadata": {},
   "outputs": [
    {
     "name": "stdout",
     "output_type": "stream",
     "text": [
      "[0.8315553665161133, 0.00343236792832613, 0.011186609044671059, 0.0009952803375199437, 0.12382610142230988, 0.02900431491434574]\n"
     ]
    }
   ],
   "source": [
    "print(probs)"
   ]
  },
  {
   "cell_type": "code",
   "execution_count": 9,
   "metadata": {},
   "outputs": [
    {
     "name": "stdout",
     "output_type": "stream",
     "text": [
      "Broca\n"
     ]
    }
   ],
   "source": [
    "print(pred)"
   ]
  }
 ],
 "metadata": {
  "kernelspec": {
   "display_name": "vision_venv",
   "language": "python",
   "name": "python3"
  },
  "language_info": {
   "codemirror_mode": {
    "name": "ipython",
    "version": 3
   },
   "file_extension": ".py",
   "mimetype": "text/x-python",
   "name": "python",
   "nbconvert_exporter": "python",
   "pygments_lexer": "ipython3",
   "version": "3.10.12"
  }
 },
 "nbformat": 4,
 "nbformat_minor": 2
}
